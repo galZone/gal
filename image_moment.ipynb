{
 "cells": [
  {
   "cell_type": "code",
   "execution_count": 35,
   "metadata": {},
   "outputs": [],
   "source": [
    "import numpy as np\n",
    "import cv2\n",
    "import rtde_control\n",
    "import rtde_receive\n",
    "import matplotlib.pyplot as plt\n",
    "import math\n",
    "import sklearn"
   ]
  },
  {
   "cell_type": "markdown",
   "metadata": {},
   "source": [
    "read image"
   ]
  },
  {
   "cell_type": "code",
   "execution_count": 2,
   "metadata": {},
   "outputs": [],
   "source": [
    "img = cv2.imread(\"./image/lena.jpg\")\n",
    "img=cv2.cvtColor(img,cv2.COLOR_BGR2GRAY)"
   ]
  },
  {
   "cell_type": "code",
   "execution_count": 3,
   "metadata": {},
   "outputs": [
    {
     "data": {
      "text/plain": [
       "(512, 512)"
      ]
     },
     "execution_count": 3,
     "metadata": {},
     "output_type": "execute_result"
    }
   ],
   "source": [
    "img.shape"
   ]
  },
  {
   "cell_type": "code",
   "execution_count": 4,
   "metadata": {},
   "outputs": [],
   "source": [
    "retval, bin_img = cv2.threshold(img, 50, 1, cv2.THRESH_BINARY)"
   ]
  },
  {
   "cell_type": "code",
   "execution_count": 5,
   "metadata": {},
   "outputs": [],
   "source": [
    "moments = cv2.moments(bin_img)\n",
    "humoments = cv2.HuMoments(moments)"
   ]
  },
  {
   "cell_type": "code",
   "execution_count": 6,
   "metadata": {},
   "outputs": [
    {
     "data": {
      "text/plain": [
       "238511.0"
      ]
     },
     "execution_count": 6,
     "metadata": {},
     "output_type": "execute_result"
    }
   ],
   "source": [
    "moments[\"m00\"]"
   ]
  },
  {
   "cell_type": "code",
   "execution_count": 7,
   "metadata": {},
   "outputs": [
    {
     "data": {
      "text/plain": [
       "dict"
      ]
     },
     "execution_count": 7,
     "metadata": {},
     "output_type": "execute_result"
    }
   ],
   "source": [
    "type(moments)"
   ]
  },
  {
   "cell_type": "code",
   "execution_count": 8,
   "metadata": {},
   "outputs": [
    {
     "data": {
      "text/plain": [
       "({'m00': 238511.0,\n",
       "  'm10': 60860094.0,\n",
       "  'm01': 59874426.0,\n",
       "  'm20': 20775188230.0,\n",
       "  'm11': 15618726894.0,\n",
       "  'm02': 20280258860.0,\n",
       "  'm30': 7967786473830.0,\n",
       "  'm21': 5408692997720.0,\n",
       "  'm12': 5357574859972.0,\n",
       "  'm03': 7756071333744.0,\n",
       "  'mu20': 5245711427.299765,\n",
       "  'mu11': 340759862.89433223,\n",
       "  'mu02': 5249728239.4857435,\n",
       "  'mu30': -10415326800.450033,\n",
       "  'mu21': 19508327463.457138,\n",
       "  'mu12': 11640865509.662848,\n",
       "  'mu03': 29309094835.46721,\n",
       "  'nu20': 0.09221202711981,\n",
       "  'nu11': 0.005990066009927177,\n",
       "  'nu02': 0.09228263687396099,\n",
       "  'nu30': -0.0003748882840528927,\n",
       "  'nu21': 0.0007021808866526744,\n",
       "  'nu12': 0.0004190002080030213,\n",
       "  'nu03': 0.0010549487769828823},\n",
       " array([[ 1.84494664e-01],\n",
       "        [ 1.43528549e-04],\n",
       "        [ 3.76891110e-06],\n",
       "        [ 3.08945052e-06],\n",
       "        [-5.02763472e-12],\n",
       "        [ 2.07503948e-09],\n",
       "        [-9.26607433e-12]]))"
      ]
     },
     "execution_count": 8,
     "metadata": {},
     "output_type": "execute_result"
    }
   ],
   "source": [
    "moments,humoments"
   ]
  },
  {
   "cell_type": "code",
   "execution_count": 9,
   "metadata": {},
   "outputs": [],
   "source": [
    "# m00=moments[\"m00\"]\n",
    "# m01=moments[\"m01\"]\n",
    "# m10=moments[\"m10\"]\n",
    "# m11=moments[\"m11\"]\n",
    "# m20=moments[\"m20\"]\n",
    "# m02=moments[\"m02\"]\n",
    "# mu20=moments[\"mu20\"]\n",
    "# mu02=moments[\"mu02\"]\n",
    "# mu11=moments[\"mu11\"]\n",
    "# mu30=moments[\"mu30\"]\n",
    "# mu03=moments[\"mu03\"]\n",
    "# mu12=moments[\"mu12\"]\n",
    "# mu21=moments[\"mu21\"]"
   ]
  },
  {
   "cell_type": "code",
   "execution_count": 10,
   "metadata": {},
   "outputs": [],
   "source": [
    "def get_an(t_m00, t_m10,z_t=0.3):\n",
    "    t_an=z_t*math.sqrt(t_m00/t_m10)\n",
    "#     print(\"an {0:.8f}\".format(t_an))\n",
    "    \n",
    "    return t_an"
   ]
  },
  {
   "cell_type": "code",
   "execution_count": 11,
   "metadata": {},
   "outputs": [],
   "source": [
    "def get_Ls(moments):\n",
    "    \n",
    "    m00=moments[\"m00\"]\n",
    "    m01=moments[\"m01\"]\n",
    "    m10=moments[\"m10\"]\n",
    "    m11=moments[\"m11\"]\n",
    "    m20=moments[\"m20\"]\n",
    "    m02=moments[\"m02\"]\n",
    "    mu20=moments[\"mu20\"]\n",
    "    mu02=moments[\"mu02\"]\n",
    "    mu11=moments[\"mu11\"]\n",
    "    mu30=moments[\"mu30\"]\n",
    "    mu03=moments[\"mu03\"]\n",
    "    mu12=moments[\"mu12\"]\n",
    "    mu21=moments[\"mu21\"]\n",
    "    \n",
    "    xg = m10/m00\n",
    "    yg = m01/m00\n",
    "#     print('Centriod: ({0:.2f}, {1:.2f})'.format(xg, yg))\n",
    "    \n",
    "    a=m00\n",
    "    mu00 = m00\n",
    "    mu11 = m11 - xg*m01\n",
    "    mu20 = m20 - xg*m10\n",
    "    mu02 = m02 - yg*m01\n",
    "    theta = 1/2*np.arctan2(2*mu11/mu00, (mu20 - mu02)/mu00)\n",
    "#     print('Angle {0:.2f}'.format(theta*180/np.pi))\n",
    "    \n",
    "    an=get_an(m00, m10,0.4)\n",
    "    xn=an*xg\n",
    "    yn=an*yg\n",
    "\n",
    "    n11=mu11/a\n",
    "    n20=mu20/a\n",
    "    n02=mu02/a\n",
    "\n",
    "    r11=4*n11-xg*yg/2.0\n",
    "    r22=r11\n",
    "\n",
    "    r12=4*n20-xg**2/2.0\n",
    "    r21=4*n20-yg**2/2.0\n",
    "\n",
    "    r31=3*yg/2.0\n",
    "    r32=3*xg/2.0\n",
    "\n",
    "    delta = (mu20-mu02)**2+4*mu11**2\n",
    "    awx=(5*(mu12*(mu20-mu02)+mu11*(mu03-mu21))+\n",
    "         xg*(mu02*(mu20-mu02)-2*mu11**2)+yg*mu11*(mu20+mu02))/delta\n",
    "    awy=(5*(mu21*(mu02-mu20)+mu11*(mu30-mu12))+\n",
    "         yg*(mu20*(mu02-mu20)-2*mu11**2)+xg*mu11*(mu20+mu02))/delta\n",
    "\n",
    "    lxn=np.array([-1.0,0.0,0.,an*r11,-an*(1+r12),yn])\n",
    "    lyn=np.array([0,-1.0,0,an*(1+r21),-an*r22,-xn])\n",
    "    lan=np.array([0,0,-1.0,-an*r31,an*r32,0])\n",
    "    la=np.array([0,0,0,awx,awy,-1.0])\n",
    "    lcx=np.array([0,0,0,1.0,0,0])\n",
    "    lcy=np.array([0,0,0,0,1.0,0])\n",
    "\n",
    "    Ls=np.array([lxn,lyn,lan,lcx,lcy,la])\n",
    "#     print(Ls)\n",
    "    \n",
    "    return [Ls,xn,yn,an,theta,xg,yg]"
   ]
  },
  {
   "cell_type": "code",
   "execution_count": 12,
   "metadata": {},
   "outputs": [],
   "source": [
    "# [Ls,xn,yn,an,theta]=get_Ls(moments)\n",
    "ret_list=get_Ls(moments=moments)"
   ]
  },
  {
   "cell_type": "code",
   "execution_count": 13,
   "metadata": {},
   "outputs": [],
   "source": [
    "##计算图像质心"
   ]
  },
  {
   "cell_type": "code",
   "execution_count": 14,
   "metadata": {},
   "outputs": [],
   "source": [
    "# xg = m10/m00\n",
    "# yg = m01/m00\n",
    "# print('Centriod: ({0:.2f}, {1:.2f})'.format(xg, yg))"
   ]
  },
  {
   "cell_type": "code",
   "execution_count": 15,
   "metadata": {},
   "outputs": [],
   "source": [
    "##计算角度"
   ]
  },
  {
   "cell_type": "code",
   "execution_count": 16,
   "metadata": {},
   "outputs": [],
   "source": [
    "# a=m00\n",
    "# mu00 = m00\n",
    "# mu11 = m11 - xg*m01\n",
    "# mu20 = m20 - xg*m10\n",
    "# mu02 = m02 - yg*m01\n",
    "# theta = 1/2*np.arctan2(2*mu11/mu00, (mu20 - mu02)/mu00)\n",
    "# print('Angle {0:.2f}'.format(theta*180/np.pi))"
   ]
  },
  {
   "cell_type": "code",
   "execution_count": 17,
   "metadata": {},
   "outputs": [],
   "source": [
    "##结果可视化"
   ]
  },
  {
   "cell_type": "code",
   "execution_count": 18,
   "metadata": {},
   "outputs": [
    {
     "data": {
      "text/plain": [
       "<matplotlib.image.AxesImage at 0x263c684e8e0>"
      ]
     },
     "execution_count": 18,
     "metadata": {},
     "output_type": "execute_result"
    },
    {
     "data": {
      "image/png": "[encoded data removed]",
      "text/plain": [
       "<Figure size 432x288 with 1 Axes>"
      ]
     },
     "metadata": {
      "needs_background": "light"
     },
     "output_type": "display_data"
    }
   ],
   "source": [
    "# visual\n",
    "theta=ret_list[4]\n",
    "xg=ret_list[5]\n",
    "yg=ret_list[6]\n",
    "rho = 800\n",
    "dx_major = rho * np.cos(theta)\n",
    "dy_major = rho * np.sin(theta)\n",
    "dx_minor = 0.3 * rho * np.cos(theta - np.pi / 2)\n",
    "dy_minor = 0.3 * rho * np.sin(theta - np.pi / 2)\n",
    "# short\n",
    "short_axis=[(int(xg-dx_minor),int(yg-dy_minor)),(int(xg),int(yg)),(int(xg+dx_minor),int(yg+dy_minor))]\n",
    "for i in range(len(short_axis)-1):\n",
    "    cv2.line(img,short_axis[i],short_axis[i+1],color=(255,0,0),thickness=2)\n",
    "for pt in short_axis:\n",
    "    cv2.circle(img,pt,radius=5,color=(255,0,0),thickness=3,lineType=-1)\n",
    "# long\n",
    "long_axis = [(int(xg - dx_major), int(yg - dy_major)), (int(xg), int(yg)), (int(xg + dx_major), int(yg + dy_major))]\n",
    "for i in range(len(long_axis) - 1):\n",
    "    cv2.line(img, long_axis[i], long_axis[i + 1], color=(0, 0, 255), thickness=2)\n",
    "for pt in long_axis:\n",
    "    cv2.circle(img,pt,radius=5,color=(0,0,255),thickness=3,lineType=-1)\n",
    "# center\n",
    "cv2.circle(img, (int(xg),int(yg)), radius=5, color=(0, 255, 0), thickness=3, lineType=-1)\n",
    "# show\n",
    "#cv2.imshow(\"img\",img)\n",
    "img=cv2.cvtColor(img,cv2.COLOR_BGR2RGB)\n",
    "plt.imshow(img)"
   ]
  },
  {
   "cell_type": "code",
   "execution_count": 19,
   "metadata": {},
   "outputs": [],
   "source": [
    "# an=get_an(m00, m10,0.4)\n",
    "# xn=an*xg\n",
    "# yn=an*yg\n",
    "\n",
    "# def get_Ls():\n",
    "\n",
    "# n11=mu11/a\n",
    "# n20=mu20/a\n",
    "# n02=mu02/a\n",
    "\n",
    "# r11=4*n11-xg*yg/2.0\n",
    "# r22=r11\n",
    "\n",
    "# r12=4*n20-xg**2/2.0\n",
    "# r21=4*n20-yg**2/2.0\n",
    "\n",
    "# r31=3*yg/2.0\n",
    "# r32=3*xg/2.0\n",
    "\n",
    "# delta = (mu20-mu02)**2+4*mu11**2\n",
    "# awx=(5*(mu12*(mu20-mu02)+mu11*(mu03-mu21))+\n",
    "#      xg*(mu02*(mu20-mu02)-2*mu11**2)+yg*mu11*(mu20+mu02))/delta\n",
    "# awy=(5*(mu21*(mu02-mu20)+mu11*(mu30-mu12))+\n",
    "#      yg*(mu20*(mu02-mu20)-2*mu11**2)+xg*mu11*(mu20+mu02))/delta\n",
    "\n",
    "# lxn=np.array([-1.0,0.0,0.,an*r11,-an*(1+r12),yn])\n",
    "# lyn=np.array([0,-1.0,0,an*(1+r21),-an*r22,-xn])\n",
    "# lan=np.array([0,0,-1.0,-an*r31,an*r32,0])\n",
    "# la=np.array([0,0,0,awx,awy,-1.0])\n",
    "# lcx=np.array([0,0,0,1.0,0,0])\n",
    "# lcy=np.array([0,0,0,0,1.0,0])\n",
    "\n",
    "# Ls=np.array([lxn,lyn,lan,lcx,lcy,la])\n",
    "# print(Ls)\n"
   ]
  },
  {
   "cell_type": "code",
   "execution_count": 20,
   "metadata": {},
   "outputs": [],
   "source": [
    "# mx=1\n",
    "# my=2\n",
    "# s=np.array([xn,yn,an,mx,my,theta])\n",
    "# s0=np.array([xn-1,yn+2,an,mx,my,theta+10])\n",
    "# error=s-s0\n",
    "# lamda=0.5\n",
    "# Ls_inv=np.linalg.inv(Ls)\n",
    "\n",
    "# vc=-lamda*Ls_inv@error\n",
    "# vc"
   ]
  },
  {
   "cell_type": "code",
   "execution_count": 21,
   "metadata": {},
   "outputs": [],
   "source": [
    "def get_vc(ret_lst):\n",
    "    mx=1\n",
    "    my=2\n",
    "    Ls=ret_lst[0]\n",
    "    xn=ret_lst[1]\n",
    "    yn=ret_lst[2]\n",
    "    an=ret_lst[3]\n",
    "    theta=ret_lst[4]\n",
    "    s=np.array([xn,yn,an,mx,my,theta],dtype=np.float32)\n",
    "    s0=np.array([xn-1.00736274,yn+2,an,mx,my,theta+10],dtype=np.float32)\n",
    "#     print(\"s,s0\",s,s0)\n",
    "    error=s-s0\n",
    "    lamda=0.5\n",
    "    Ls_inv=np.linalg.inv(Ls)\n",
    "\n",
    "    vc=-lamda*Ls_inv@error\n",
    "    \n",
    "    return vc,error\n"
   ]
  },
  {
   "cell_type": "code",
   "execution_count": 22,
   "metadata": {},
   "outputs": [],
   "source": [
    "def get_ejc():\n",
    "    cte=np.array([-0.02895950536,-0.09892502277,0.0118580624])\n",
    "    cre=np.array([[0.9999473971,-0.009749107311,-0.00318714031],\n",
    "                 [0.00973491764,0.9999427672,-0.004437767002],\n",
    "                 [0.003230222168,0.004406507014,0.9999850741]])\n",
    "\n",
    "    s_cte=np.array([ [0,-cte[2],cte[1] ],\n",
    "                   [cte[2],0,-cte[0] ],\n",
    "                   [-cte[1],cte[0],0] ])\n",
    "    ejc=np.zeros(shape=(6,6),dtype=np.float32)\n",
    "\n",
    "    ejc[0:3,0:3]=cre\n",
    "    ejc[0:3,3:6]=-cre@s_cte\n",
    "    ejc[3:6,3:6]=cre\n",
    "    return ejc"
   ]
  },
  {
   "cell_type": "code",
   "execution_count": 23,
   "metadata": {},
   "outputs": [
    {
     "name": "stdout",
     "output_type": "stream",
     "text": [
      "e_norm:  10.247672\n"
     ]
    }
   ],
   "source": [
    "def main():\n",
    "    \n",
    "    ejc=get_ejc()\n",
    "    \n",
    "    if True:\n",
    "#     while True:\n",
    "        # img from rs2\n",
    "        \n",
    "        # moments\n",
    "        \n",
    "        ret_list=get_Ls(moments=moments)\n",
    "        vc,error=get_vc(ret_list)\n",
    "        \n",
    "        e_norm=np.linalg.norm(error)\n",
    "        print(\"e_norm: \",e_norm)\n",
    "#         if e_norm<=0.1:\n",
    "#             break\n",
    "            \n",
    "        ve=ejc@vc\n",
    "        # ur5\n",
    "if __name__==\"__main__\":\n",
    "   main()"
   ]
  },
  {
   "cell_type": "code",
   "execution_count": 24,
   "metadata": {},
   "outputs": [],
   "source": [
    "class History:\n",
    "    def __init__(self):\n",
    "        self.v=np.array([.0,.0,.0,.0,.0,.0])\n",
    "        self.e=np.array([.0,.0,.0,.0,.0,.0])\n",
    "    \n",
    "    def show_v(self):\n",
    "        print(self.v)\n",
    "            "
   ]
  },
  {
   "cell_type": "code",
   "execution_count": 25,
   "metadata": {},
   "outputs": [
    {
     "name": "stdout",
     "output_type": "stream",
     "text": [
      "[0. 0. 0. 0. 0. 0.]\n",
      "[0. 0. 0. 0. 0. 0.]\n"
     ]
    }
   ],
   "source": [
    "h1=History()\n",
    "h1.show_v()\n",
    "h2=History()\n",
    "h2.show_v()"
   ]
  },
  {
   "cell_type": "code",
   "execution_count": 26,
   "metadata": {},
   "outputs": [],
   "source": [
    "list_history=[]\n",
    "\n",
    "for i in range(6):\n",
    "    h1=History()\n",
    "    h1.v[i]=i\n",
    "    list_history.append(h1)\n",
    "# while e<0.01:"
   ]
  },
  {
   "cell_type": "code",
   "execution_count": 27,
   "metadata": {},
   "outputs": [],
   "source": [
    "e_list=[]\n",
    "v_list=[]\n",
    "\n",
    "for h in list_history:\n",
    "    e_list.append(h.e)\n",
    "    v_list.append(h.v)\n"
   ]
  },
  {
   "cell_type": "code",
   "execution_count": 28,
   "metadata": {},
   "outputs": [
    {
     "data": {
      "text/plain": [
       "array([0., 1., 0., 0., 0., 0.])"
      ]
     },
     "execution_count": 28,
     "metadata": {},
     "output_type": "execute_result"
    }
   ],
   "source": [
    "e_np=np.array(e_list)\n",
    "v_np=np.array(v_list)\n",
    "\n",
    "v_np[:,1]\n"
   ]
  },
  {
   "cell_type": "code",
   "execution_count": 29,
   "metadata": {},
   "outputs": [
    {
     "data": {
      "text/plain": [
       "[<matplotlib.lines.Line2D at 0x263c68f08b0>]"
      ]
     },
     "execution_count": 29,
     "metadata": {},
     "output_type": "execute_result"
    },
    {
     "data": {
      "image/png": "[encoded data removed]",
      "text/plain": [
       "<Figure size 432x288 with 1 Axes>"
      ]
     },
     "metadata": {
      "needs_background": "light"
     },
     "output_type": "display_data"
    }
   ],
   "source": [
    "# plot\n",
    "tx=np.linspace(0,len(list_history)-1,len(list_history))\n",
    "ty=v_np[:,1]\n",
    "\n",
    "plt.plot(tx,ty)"
   ]
  },
  {
   "cell_type": "code",
   "execution_count": 30,
   "metadata": {},
   "outputs": [
    {
     "data": {
      "text/plain": [
       "array([0., 1., 2., 3., 4., 5.])"
      ]
     },
     "execution_count": 30,
     "metadata": {},
     "output_type": "execute_result"
    }
   ],
   "source": [
    "tx"
   ]
  },
  {
   "cell_type": "code",
   "execution_count": 5,
   "metadata": {},
   "outputs": [
    {
     "name": "stdout",
     "output_type": "stream",
     "text": [
      "<module 'sklearn' from 'D:\\\\Anaconda3\\\\lib\\\\site-packages\\\\sklearn\\\\__init__.py'>\n"
     ]
    }
   ],
   "source": [
    "print(sklearn)"
   ]
  },
  {
   "cell_type": "code",
   "execution_count": null,
   "metadata": {},
   "outputs": [],
   "source": []
  }
 ],
 "metadata": {
  "kernelspec": {
   "display_name": "Python 3",
   "language": "python",
   "name": "python3"
  },
  "language_info": {
   "codemirror_mode": {
    "name": "ipython",
    "version": 3
   },
   "file_extension": ".py",
   "mimetype": "text/x-python",
   "name": "python",
   "nbconvert_exporter": "python",
   "pygments_lexer": "ipython3",
   "version": "3.8.3"
  }
 },
 "nbformat": 4,
 "nbformat_minor": 4
}
